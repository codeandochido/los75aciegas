{
 "cells": [
  {
   "cell_type": "markdown",
   "id": "5c2c2fc9",
   "metadata": {},
   "source": [
    "# Codeando Chi Do"
   ]
  },
  {
   "cell_type": "markdown",
   "id": "291d0254",
   "metadata": {},
   "source": [
    "### Leetcode No. 217 Contains Duplicate (Contiene un Duplicado)\n",
    "> Dado un arreglo de números enteros **_nums_**, regresa **True** si existe al menos un número con multiplicidad mayor o igual a dos, y de lo contrario, regresa **Falso** (si todos los elementos son distintos).\n",
    "\n",
    "Ejemplo 1:\n",
    "\n",
    "`Input: nums = [1,2,3,1]\n",
    "Output: true`\n",
    "\n",
    "Ejemplo 2:\n",
    "\n",
    "`Input: nums = [1,2,3,4]\n",
    "Output: false`"
   ]
  },
  {
   "cell_type": "code",
   "execution_count": 1,
   "id": "dd2d6438",
   "metadata": {},
   "outputs": [],
   "source": [
    "# Brute Force Solution -> O(N**2) /// O(1)\n",
    "def contains_duplicate(nums):\n",
    "    # [1,2,3,1, ..., i - 1]\n",
    "    # Iteracion sobre la lista (tener un numero) \n",
    "    for i in range( len(nums) - 1 ):\n",
    "        #[i = 1]\n",
    "        # Comparacion con el resto de numeros\n",
    "        # Iterar sobre el resto de numeros [j = i + 1, ..., 2,3,1]\n",
    "        for j in range(i + 1, len(nums)):\n",
    "            # Comparar los dos numeros (nums[i] == nums[j] ?)\n",
    "                # Si son iguales -> Return True\n",
    "                if nums[i] == nums[j]:\n",
    "                    return True\n",
    "    # Return False\n",
    "    return False"
   ]
  },
  {
   "cell_type": "code",
   "execution_count": 3,
   "id": "19434c4f",
   "metadata": {},
   "outputs": [
    {
     "data": {
      "text/plain": [
       "False"
      ]
     },
     "execution_count": 3,
     "metadata": {},
     "output_type": "execute_result"
    }
   ],
   "source": [
    "contains_duplicate([1,2,3,4])"
   ]
  },
  {
   "cell_type": "code",
   "execution_count": null,
   "id": "1bc0ce89",
   "metadata": {},
   "outputs": [],
   "source": [
    "Loop1 [1,2,3]\n",
    "    1 vs [2,3,1]\n",
    "        1 vs 2\n",
    "        1 vs 3\n",
    "        1 vs 1 => Return True\n",
    "\n",
    "[1,2,3,4]\n",
    "Loop1 [1,2,3]\n",
    "    1 vs [2,3,4]\n",
    "        1 vs 2,...,4\n",
    "    2 vs [3,4]\n",
    "        2 vs 3,4\n",
    "    3 vs [4]\n",
    "        3 vs 4\n",
    "return False"
   ]
  },
  {
   "cell_type": "code",
   "execution_count": null,
   "id": "5ed2592a",
   "metadata": {},
   "outputs": [],
   "source": [
    "# Otra solucion O(N log N)\n",
    "# sort()\n",
    "# [1,2,3,1] -> [1,1,2,3]\n",
    "# En el video no se incluye esta solucion"
   ]
  },
  {
   "cell_type": "code",
   "execution_count": 7,
   "id": "f07d76db",
   "metadata": {},
   "outputs": [],
   "source": [
    "# Better solution 1 (¿podemos agregar memoria?) -> O(N)  /// O(N)\n",
    "def contains_duplicate2(nums):\n",
    "    # Agregamos una memoria -> set() / dic() \n",
    "    visited = set()\n",
    "    # Iteracion sobre nums\n",
    "    for i in nums:\n",
    "        # i ya existe en set()?\n",
    "        if i in visited:\n",
    "            return True\n",
    "        visited.add(i)\n",
    "            # No: se agrega a set\n",
    "            # Si: Return True\n",
    "    # Return False\n",
    "    return False"
   ]
  },
  {
   "cell_type": "code",
   "execution_count": 6,
   "id": "aa25b3db",
   "metadata": {},
   "outputs": [
    {
     "data": {
      "text/plain": [
       "False"
      ]
     },
     "execution_count": 6,
     "metadata": {},
     "output_type": "execute_result"
    }
   ],
   "source": [
    "contains_duplicate2([1,2,3,4])"
   ]
  },
  {
   "cell_type": "code",
   "execution_count": 13,
   "id": "4b65e7ee",
   "metadata": {},
   "outputs": [],
   "source": [
    "# Better solution 2 (¿atajos?) -> O(N) /// O(N)\n",
    "\n",
    "def contains_duplicate3(nums):\n",
    "    # set([1,2,3,4,5,6,3,3,5,10]) -> [1,2,3,4,5,6,10]\n",
    "    if len(set(nums)) == len(nums): return False\n",
    "    return True"
   ]
  },
  {
   "cell_type": "code",
   "execution_count": 14,
   "id": "97e92b73",
   "metadata": {},
   "outputs": [
    {
     "data": {
      "text/plain": [
       "False"
      ]
     },
     "execution_count": 14,
     "metadata": {},
     "output_type": "execute_result"
    }
   ],
   "source": [
    "contains_duplicate3([1,2,3,10,5])"
   ]
  },
  {
   "cell_type": "code",
   "execution_count": null,
   "id": "ab2d48df",
   "metadata": {},
   "outputs": [],
   "source": [
    "# MEDIR DESEMPEÑO DE NUESTRAS SOLUCIONES"
   ]
  },
  {
   "cell_type": "code",
   "execution_count": 21,
   "id": "9e5fe5e3",
   "metadata": {},
   "outputs": [
    {
     "name": "stdout",
     "output_type": "stream",
     "text": [
      "103438.36545944214\n"
     ]
    }
   ],
   "source": [
    "from time import time\n",
    "start_time = time()\n",
    "contains_duplicate([1]*1000000000)\n",
    "end_time = time()\n",
    "elapsed = end_time - start_time\n",
    "print(elapsed*10000)"
   ]
  },
  {
   "cell_type": "code",
   "execution_count": 23,
   "id": "e4a6b005",
   "metadata": {},
   "outputs": [
    {
     "name": "stdout",
     "output_type": "stream",
     "text": [
      "103596.61102294922\n"
     ]
    }
   ],
   "source": [
    "from time import time\n",
    "start_time = time()\n",
    "contains_duplicate2([1]*1000000000)\n",
    "end_time = time()\n",
    "elapsed = end_time - start_time\n",
    "print(elapsed*10000)"
   ]
  },
  {
   "cell_type": "code",
   "execution_count": 24,
   "id": "c8148f9f",
   "metadata": {},
   "outputs": [
    {
     "name": "stdout",
     "output_type": "stream",
     "text": [
      "287539.74199295044\n"
     ]
    }
   ],
   "source": [
    "from time import time\n",
    "start_time = time()\n",
    "contains_duplicate3([1]*1000000000)\n",
    "end_time = time()\n",
    "elapsed = end_time - start_time\n",
    "print(elapsed*10000)"
   ]
  },
  {
   "cell_type": "code",
   "execution_count": null,
   "id": "31953e50",
   "metadata": {},
   "outputs": [],
   "source": []
  },
  {
   "cell_type": "code",
   "execution_count": null,
   "id": "e030322f",
   "metadata": {},
   "outputs": [],
   "source": []
  },
  {
   "cell_type": "code",
   "execution_count": null,
   "id": "7f68cfe5",
   "metadata": {},
   "outputs": [],
   "source": []
  },
  {
   "cell_type": "code",
   "execution_count": null,
   "id": "99dba8f2",
   "metadata": {},
   "outputs": [],
   "source": []
  },
  {
   "cell_type": "code",
   "execution_count": null,
   "id": "3ff38e97",
   "metadata": {},
   "outputs": [],
   "source": []
  },
  {
   "cell_type": "code",
   "execution_count": null,
   "id": "4aa595e9",
   "metadata": {},
   "outputs": [],
   "source": []
  },
  {
   "cell_type": "code",
   "execution_count": null,
   "id": "aad90f7f",
   "metadata": {},
   "outputs": [],
   "source": []
  },
  {
   "cell_type": "code",
   "execution_count": null,
   "id": "ba2acb78",
   "metadata": {},
   "outputs": [],
   "source": []
  }
 ],
 "metadata": {
  "kernelspec": {
   "display_name": "Python 3 (ipykernel)",
   "language": "python",
   "name": "python3"
  },
  "language_info": {
   "codemirror_mode": {
    "name": "ipython",
    "version": 3
   },
   "file_extension": ".py",
   "mimetype": "text/x-python",
   "name": "python",
   "nbconvert_exporter": "python",
   "pygments_lexer": "ipython3",
   "version": "3.8.10"
  }
 },
 "nbformat": 4,
 "nbformat_minor": 5
}
