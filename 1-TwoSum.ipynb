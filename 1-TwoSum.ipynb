{
 "cells": [
  {
   "cell_type": "markdown",
   "id": "88840ef1",
   "metadata": {},
   "source": [
    "# Codeando Chi Do"
   ]
  },
  {
   "attachments": {
    "Logo.png": {
     "image/png": "[encoded data removed]"
    }
   },
   "cell_type": "markdown",
   "id": "dbfd3de7",
   "metadata": {},
   "source": [
    "![Logo.png](attachment:Logo.png)"
   ]
  },
  {
   "cell_type": "markdown",
   "id": "4449150b",
   "metadata": {},
   "source": [
    "### Leetcode No. 1 Two Sum (Suma de dos números)\n",
    "> Dado un arreglo de números enteros **_nums_** y un número entero **_target_**, regresa los índices de los dos números cuya suma resulte en **_target_**.\n",
    "\n",
    ">Puedes suponer que cada entrada (input) tiene una única solución, y no puedes usar el mismo elemento dos veces. \n",
    "\n",
    ">La salida (output) puede ser dada en cualquier orden. \n",
    "\n",
    "Ejemplo:\n",
    "\n",
    "`Input: nums = [2,7,11,15], target = 9\n",
    "Output: [0,1]\n",
    "Explanation: Because nums[0] + nums[1] == 9, we return [0, 1].`"
   ]
  },
  {
   "cell_type": "markdown",
   "id": "00105958",
   "metadata": {},
   "source": [
    "## Brute Force Solution ->   O(N**2)   |   O(1)  "
   ]
  },
  {
   "cell_type": "code",
   "execution_count": 3,
   "id": "d7a0029a",
   "metadata": {},
   "outputs": [],
   "source": [
    "def two_sum(nums, target):\n",
    "    # Iterar sobre la lista nums (0,---,N-1) -> i\n",
    "    for i in range( len(nums) - 1 ):\n",
    "        # Iterar sobre la lista remanente (i + 1, --- , N) -> j\n",
    "        for j in range( i + 1, len(nums) ):\n",
    "            # Comparar nums[i] + nums[j] = target\n",
    "            if nums[i] + nums[j] == target:\n",
    "                # Si: return [i,j]\n",
    "                return [i,j]"
   ]
  },
  {
   "cell_type": "code",
   "execution_count": null,
   "id": "900c462e",
   "metadata": {},
   "outputs": [],
   "source": [
    "[1,2,3,6] target = 8\n",
    "\n",
    "Loop1 [1,2,3]\n",
    "    Loop2 [Loop1 + 1 : 2,3,6]\n",
    "       1 vs [2,3,6] ?\n",
    "       2 vs [3,6] ? ==> [1,3]"
   ]
  },
  {
   "cell_type": "code",
   "execution_count": 4,
   "id": "6cc39901",
   "metadata": {},
   "outputs": [
    {
     "data": {
      "text/plain": [
       "[1, 3]"
      ]
     },
     "execution_count": 4,
     "metadata": {},
     "output_type": "execute_result"
    }
   ],
   "source": [
    "two_sum([1,2,3,6],8)"
   ]
  },
  {
   "cell_type": "markdown",
   "id": "d47a32c6",
   "metadata": {},
   "source": [
    "# Two pointers ->   O(N Log N)   |   O(N)  "
   ]
  },
  {
   "cell_type": "code",
   "execution_count": 7,
   "id": "55d5e897",
   "metadata": {},
   "outputs": [],
   "source": [
    "def two_sum(nums, target):\n",
    "    nums2 = nums[:]\n",
    "    # Sort a la lista\n",
    "    nums2.sort()\n",
    "    # Asignar L, R sus valores iniciales (extremo)\n",
    "    l,r = 0, len(nums)-1\n",
    "    # While L R bajo ciertas condiciones se muevan\n",
    "    while l < r:\n",
    "        # nums[L] + nums[R] < Target\n",
    "        if nums2[l] + nums2[r] < target: l += 1\n",
    "            # L = L + 1\n",
    "        # nums[L] + nums[R] > Target\n",
    "        elif nums2[l] + nums2[r] > target: r -= 1\n",
    "            # R = R - 1\n",
    "        # nums[L] + nums[R] = Target\n",
    "        else: \n",
    "            res = []\n",
    "            # iteracion sobre la lista original\n",
    "            for i in range(len(nums)):\n",
    "                if nums2[l] == nums[i]:\n",
    "                    res.append(i)\n",
    "                elif nums2[r] == nums[i]:\n",
    "                    res.append(i)\n",
    "            # return [L,R]\n",
    "            return res"
   ]
  },
  {
   "cell_type": "code",
   "execution_count": null,
   "id": "7a8153e0",
   "metadata": {},
   "outputs": [],
   "source": [
    "[3,2,1] target = 5\n",
    "[1,2,3]\n",
    "l,r = 0, 2\n",
    "while:\n",
    "    1 + 3 < 5 => l = 1\n",
    "    2 + 3 = 5 => \n",
    "        2,3\n",
    "        [3,2,1]\n",
    "        res = [0]\n",
    "        res = [0,1]\n",
    "        return [0,1]"
   ]
  },
  {
   "cell_type": "markdown",
   "id": "d64f2cf6",
   "metadata": {},
   "source": [
    "## Dictionary ->    O(N)   |   O(N)  "
   ]
  },
  {
   "cell_type": "code",
   "execution_count": 8,
   "id": "e6669426",
   "metadata": {},
   "outputs": [],
   "source": [
    "def two_sum(nums, target):\n",
    "    # Creamos el diccionario (vacio)\n",
    "    visited = {}\n",
    "    # Iteracion sobre nums\n",
    "    for i,val in enumerate(nums):\n",
    "        # Comparacion target - i  esta en dic?\n",
    "        if target - val in visited:\n",
    "            return [visited[target-val], i]\n",
    "        # Guardar aquellas entradas que no estan\n",
    "        visited[val] = i"
   ]
  },
  {
   "cell_type": "code",
   "execution_count": 9,
   "id": "98e5f02b",
   "metadata": {},
   "outputs": [
    {
     "data": {
      "text/plain": [
       "[2, 3]"
      ]
     },
     "execution_count": 9,
     "metadata": {},
     "output_type": "execute_result"
    }
   ],
   "source": [
    "two_sum([1,2,3,5], 8)"
   ]
  },
  {
   "cell_type": "code",
   "execution_count": null,
   "id": "1a25c0d6",
   "metadata": {},
   "outputs": [],
   "source": [
    "[1,2,3,5] target 8\n",
    "visited = {}\n",
    "[1,2,3,5]\n",
    "    1 \n",
    "    target - 1 in visited?\n",
    "    visited= {1:0}\n",
    "    2\n",
    "    target - 2 in visited?\n",
    "    visited = {1:0,2:1}\n",
    "    3\n",
    "    target - 3 in visited?\n",
    "    visited = {1:0,2:1,3:2}\n",
    "    5\n",
    "    target - 5 in visited?\n",
    "        return [2,3]"
   ]
  },
  {
   "cell_type": "code",
   "execution_count": null,
   "id": "94deffae",
   "metadata": {},
   "outputs": [],
   "source": []
  }
 ],
 "metadata": {
  "kernelspec": {
   "display_name": "Python 3 (ipykernel)",
   "language": "python",
   "name": "python3"
  },
  "language_info": {
   "codemirror_mode": {
    "name": "ipython",
    "version": 3
   },
   "file_extension": ".py",
   "mimetype": "text/x-python",
   "name": "python",
   "nbconvert_exporter": "python",
   "pygments_lexer": "ipython3",
   "version": "3.8.10"
  }
 },
 "nbformat": 4,
 "nbformat_minor": 5
}
